{
 "cells": [
  {
   "cell_type": "code",
   "execution_count": 1,
   "metadata": {},
   "outputs": [],
   "source": [
    "data = ['a', 'b', 'c', 'd', 'e', 'f', 'g', 'h', 'j', 'k', 'l']\n",
    "num_sets = 3"
   ]
  },
  {
   "cell_type": "markdown",
   "metadata": {},
   "source": [
    "We take two parameters: data that we need to shuffle and number of pieces that it need to be divided.\n",
    "Accordind to Task requirements we should contain all the data in returned result without any duplication in \"training\" parts. Here is an algorithm:\n",
    "1) We need to know what the lengths of our \"training sets\" are. It is always length of data divided by number of pieces or the same number plus one\n",
    "2) According to previously mentioned \"plus one\" we need to know should we add to current set this \"plus one\" element\n",
    "3) \"Plus one\" element(s) create the shift of indexes that we have to evaluate every step respectivly to p.2. That's why variable f exists. It checks \"plus one(s)\""
   ]
  },
  {
   "cell_type": "code",
   "execution_count": 2,
   "metadata": {},
   "outputs": [],
   "source": [
    "def shuffle(data, num_sets):\n",
    "    l = len(data)\n",
    "    d = int(l/num_sets)\n",
    "    f = l%num_sets\n",
    "    \n",
    "    shift = 0\n",
    "    \n",
    "    ret = []\n",
    "    \n",
    "    for i in range(num_sets):\n",
    "        k = int(f > 0)\n",
    "        ret.append((\n",
    "            data[i * d + shift: i * d + d + k + shift], \n",
    "            data[0: i * d + shift] + data[i * d + d + k + shift:]\n",
    "        ))\n",
    "        f -= 1\n",
    "        shift += k\n",
    "    return ret"
   ]
  },
  {
   "cell_type": "code",
   "execution_count": 3,
   "metadata": {},
   "outputs": [
    {
     "data": {
      "text/plain": [
       "[(['a', 'b', 'c'], ['d', 'e', 'f', 'g', 'h']),\n",
       " (['d', 'e', 'f'], ['a', 'b', 'c', 'g', 'h']),\n",
       " (['g', 'h'], ['a', 'b', 'c', 'd', 'e', 'f'])]"
      ]
     },
     "execution_count": 3,
     "metadata": {},
     "output_type": "execute_result"
    }
   ],
   "source": [
    "shuffle(data[:8], 3)"
   ]
  },
  {
   "cell_type": "code",
   "execution_count": null,
   "metadata": {},
   "outputs": [],
   "source": []
  }
 ],
 "metadata": {
  "kernelspec": {
   "display_name": "Python 3.6",
   "language": "python",
   "name": "py36"
  },
  "language_info": {
   "codemirror_mode": {
    "name": "ipython",
    "version": 3
   },
   "file_extension": ".py",
   "mimetype": "text/x-python",
   "name": "python",
   "nbconvert_exporter": "python",
   "pygments_lexer": "ipython3",
   "version": "3.6.8"
  }
 },
 "nbformat": 4,
 "nbformat_minor": 2
}
